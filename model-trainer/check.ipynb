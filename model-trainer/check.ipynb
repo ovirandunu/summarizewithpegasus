{
 "cells": [
  {
   "cell_type": "code",
   "execution_count": 1,
   "metadata": {},
   "outputs": [
    {
     "name": "stderr",
     "output_type": "stream",
     "text": [
      "c:\\Users\\ovira\\Desktop\\Projects\\text-mining\\tmgp\\venv\\lib\\site-packages\\tqdm\\auto.py:21: TqdmWarning: IProgress not found. Please update jupyter and ipywidgets. See https://ipywidgets.readthedocs.io/en/stable/user_install.html\n",
      "  from .autonotebook import tqdm as notebook_tqdm\n",
      "Downloading readme: 100%|██████████| 272/272 [00:00<?, ?B/s] \n",
      "Downloading data: 100%|██████████| 16.6M/16.6M [00:17<00:00, 975kB/s]\n",
      "Downloading data: 100%|██████████| 992k/992k [00:00<00:00, 1.06MB/s]\n",
      "Downloading data: 100%|██████████| 2.00M/2.00M [00:01<00:00, 1.15MB/s]\n",
      "Generating train split: 100%|██████████| 17075/17075 [00:00<00:00, 276236.94 examples/s]\n",
      "Generating validation split: 100%|██████████| 1000/1000 [00:00<00:00, 100043.03 examples/s]\n",
      "Generating test split: 100%|██████████| 2000/2000 [00:00<00:00, 645426.48 examples/s]\n"
     ]
    },
    {
     "name": "stdout",
     "output_type": "stream",
     "text": [
      "DatasetDict({\n",
      "    train: Dataset({\n",
      "        features: ['dialogue_text', 't0pp_prediction'],\n",
      "        num_rows: 17075\n",
      "    })\n",
      "    validation: Dataset({\n",
      "        features: ['dialogue_text', 't0pp_prediction'],\n",
      "        num_rows: 1000\n",
      "    })\n",
      "    test: Dataset({\n",
      "        features: ['dialogue_text', 't0pp_prediction'],\n",
      "        num_rows: 2000\n",
      "    })\n",
      "})\n"
     ]
    }
   ],
   "source": [
    "from datasets import load_dataset\n",
    "\n",
    "dataset = load_dataset(\"npc-engine/light-batch-summarize-dialogue\")\n",
    "\n",
    "\n",
    "print(dataset)\n",
    "\n"
   ]
  }
 ],
 "metadata": {
  "kernelspec": {
   "display_name": "venv",
   "language": "python",
   "name": "python3"
  },
  "language_info": {
   "codemirror_mode": {
    "name": "ipython",
    "version": 3
   },
   "file_extension": ".py",
   "mimetype": "text/x-python",
   "name": "python",
   "nbconvert_exporter": "python",
   "pygments_lexer": "ipython3",
   "version": "3.10.11"
  }
 },
 "nbformat": 4,
 "nbformat_minor": 2
}
